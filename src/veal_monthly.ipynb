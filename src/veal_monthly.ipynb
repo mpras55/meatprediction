{
 "cells": [
  {
   "cell_type": "markdown",
   "metadata": {},
   "source": [
    "# Predicting veal_qty in monthly_45yrs_past_8yrs_prepared"
   ]
  },
  {
   "cell_type": "markdown",
   "metadata": {},
   "source": [
    "### Notebook automatically generated from your model"
   ]
  },
  {
   "cell_type": "markdown",
   "metadata": {},
   "source": [
    "Model SVM (VPQ3), trained on 2023-06-05 17:35:37."
   ]
  },
  {
   "cell_type": "markdown",
   "metadata": {},
   "source": [
    "#### Generated on 2023-06-14 21:47:51.293882"
   ]
  },
  {
   "cell_type": "markdown",
   "metadata": {},
   "source": [
    "prediction\n",
    "This notebook will reproduce the steps for a REGRESSION on  monthly_45yrs_past_8yrs_prepared.\n",
    "The main objective is to predict the variable veal_qty"
   ]
  },
  {
   "cell_type": "markdown",
   "metadata": {},
   "source": [
    "#### Warning"
   ]
  },
  {
   "cell_type": "markdown",
   "metadata": {},
   "source": [
    "The goal of this notebook is to provide an easily readable and explainable code that reproduces the main steps\n",
    "of training the model. It is not complete: some of the preprocessing done by the DSS visual machine learning is not\n",
    "replicated in this notebook. This notebook will not give the same results and model performance as the DSS visual machine\n",
    "learning model."
   ]
  },
  {
   "cell_type": "markdown",
   "metadata": {},
   "source": [
    "Let's start with importing the required libs :"
   ]
  },
  {
   "cell_type": "code",
   "execution_count": 0,
   "metadata": {},
   "outputs": [],
   "source": [
    "import sys\n",
    "import dataiku\n",
    "import numpy as np\n",
    "import pandas as pd\n",
    "import sklearn as sk\n",
    "import dataiku.core.pandasutils as pdu\n",
    "from dataiku.doctor.preprocessing import PCA\n",
    "from collections import defaultdict, Counter"
   ]
  },
  {
   "cell_type": "markdown",
   "metadata": {},
   "source": [
    "And tune pandas display options:"
   ]
  },
  {
   "cell_type": "code",
   "execution_count": 0,
   "metadata": {},
   "outputs": [],
   "source": [
    "pd.set_option('display.width', 3000)\n",
    "pd.set_option('display.max_rows', 200)\n",
    "pd.set_option('display.max_columns', 200)"
   ]
  },
  {
   "cell_type": "markdown",
   "metadata": {},
   "source": [
    "#### Importing base data"
   ]
  },
  {
   "cell_type": "markdown",
   "metadata": {},
   "source": [
    "The first step is to get our machine learning dataset:"
   ]
  },
  {
   "cell_type": "code",
   "execution_count": 0,
   "metadata": {},
   "outputs": [],
   "source": [
    "# We apply the preparation that you defined. You should not modify this.\n",
    "preparation_steps = []\n",
    "preparation_output_schema = {'columns': [{'name': 'Date_parsed', 'type': 'date'}, {'name': 'Date_parsed_year', 'type': 'bigint'}, {'name': 'Date_parsed_month', 'type': 'bigint'}, {'name': 'beef_qty', 'type': 'bigint'}, {'name': 'veal_qty', 'type': 'bigint'}, {'name': 'milk_lag_y0m0', 'type': 'bigint'}, {'name': 'milk_lag_y0m1', 'type': 'bigint'}, {'name': 'milk_lag_y0m2', 'type': 'bigint'}, {'name': 'milk_lag_y0m3', 'type': 'bigint'}, {'name': 'milk_lag_y0m4', 'type': 'bigint'}, {'name': 'milk_lag_y0m5', 'type': 'bigint'}, {'name': 'milk_lag_y0m6', 'type': 'bigint'}, {'name': 'milk_lag_y0m7', 'type': 'bigint'}, {'name': 'milk_lag_y0m8', 'type': 'bigint'}, {'name': 'milk_lag_y0m9', 'type': 'bigint'}, {'name': 'milk_lag_y0m10', 'type': 'bigint'}, {'name': 'milk_lag_y0m11', 'type': 'bigint'}, {'name': 'milk_lag_y0m12', 'type': 'bigint'}, {'name': 'milk_lag_y1m1', 'type': 'bigint'}, {'name': 'milk_lag_y1m2', 'type': 'bigint'}, {'name': 'milk_lag_y1m3', 'type': 'bigint'}, {'name': 'milk_lag_y1m4', 'type': 'bigint'}, {'name': 'milk_lag_y1m5', 'type': 'bigint'}, {'name': 'milk_lag_y1m6', 'type': 'bigint'}, {'name': 'milk_lag_y1m7', 'type': 'bigint'}, {'name': 'milk_lag_y1m8', 'type': 'bigint'}, {'name': 'milk_lag_y1m9', 'type': 'bigint'}, {'name': 'milk_lag_y1m10', 'type': 'bigint'}, {'name': 'milk_lag_y1m11', 'type': 'bigint'}, {'name': 'milk_lag_y1m12', 'type': 'bigint'}, {'name': 'milk_lag_y2m1', 'type': 'bigint'}, {'name': 'milk_lag_y2m2', 'type': 'bigint'}, {'name': 'milk_lag_y2m3', 'type': 'bigint'}, {'name': 'milk_lag_y2m4', 'type': 'bigint'}, {'name': 'milk_lag_y2m5', 'type': 'bigint'}, {'name': 'milk_lag_y2m6', 'type': 'bigint'}, {'name': 'milk_lag_y2m7', 'type': 'bigint'}, {'name': 'milk_lag_y2m8', 'type': 'bigint'}, {'name': 'milk_lag_y2m9', 'type': 'bigint'}, {'name': 'milk_lag_y2m10', 'type': 'bigint'}, {'name': 'milk_lag_y2m11', 'type': 'bigint'}, {'name': 'milk_lag_y2m12', 'type': 'bigint'}, {'name': 'milk_lag_y3m1', 'type': 'bigint'}, {'name': 'milk_lag_y3m2', 'type': 'bigint'}, {'name': 'milk_lag_y3m3', 'type': 'bigint'}, {'name': 'milk_lag_y3m4', 'type': 'bigint'}, {'name': 'milk_lag_y3m5', 'type': 'bigint'}, {'name': 'milk_lag_y3m6', 'type': 'bigint'}, {'name': 'milk_lag_y3m7', 'type': 'bigint'}, {'name': 'milk_lag_y3m8', 'type': 'bigint'}, {'name': 'milk_lag_y3m9', 'type': 'bigint'}, {'name': 'milk_lag_y3m10', 'type': 'bigint'}, {'name': 'milk_lag_y3m11', 'type': 'bigint'}, {'name': 'milk_lag_y3m12', 'type': 'bigint'}, {'name': 'milk_lag_y4m1', 'type': 'bigint'}, {'name': 'milk_lag_y4m2', 'type': 'bigint'}, {'name': 'milk_lag_y4m3', 'type': 'bigint'}, {'name': 'milk_lag_y4m4', 'type': 'bigint'}, {'name': 'milk_lag_y4m5', 'type': 'bigint'}, {'name': 'milk_lag_y4m6', 'type': 'bigint'}, {'name': 'milk_lag_y4m7', 'type': 'bigint'}, {'name': 'milk_lag_y4m8', 'type': 'bigint'}, {'name': 'milk_lag_y4m9', 'type': 'bigint'}, {'name': 'milk_lag_y4m10', 'type': 'bigint'}, {'name': 'milk_lag_y4m11', 'type': 'bigint'}, {'name': 'milk_lag_y4m12', 'type': 'bigint'}, {'name': 'milk_lag_y5m1', 'type': 'bigint'}, {'name': 'milk_lag_y5m2', 'type': 'bigint'}, {'name': 'milk_lag_y5m3', 'type': 'bigint'}, {'name': 'milk_lag_y5m4', 'type': 'bigint'}, {'name': 'milk_lag_y5m5', 'type': 'bigint'}, {'name': 'milk_lag_y5m6', 'type': 'bigint'}, {'name': 'milk_lag_y5m7', 'type': 'bigint'}, {'name': 'milk_lag_y5m8', 'type': 'bigint'}, {'name': 'milk_lag_y5m9', 'type': 'bigint'}, {'name': 'milk_lag_y5m10', 'type': 'bigint'}, {'name': 'milk_lag_y5m11', 'type': 'bigint'}, {'name': 'milk_lag_y5m12', 'type': 'bigint'}, {'name': 'milk_lag_y6m1', 'type': 'bigint'}, {'name': 'milk_lag_y6m2', 'type': 'bigint'}, {'name': 'milk_lag_y6m3', 'type': 'bigint'}, {'name': 'milk_lag_y6m4', 'type': 'bigint'}, {'name': 'milk_lag_y6m5', 'type': 'bigint'}, {'name': 'milk_lag_y6m6', 'type': 'bigint'}, {'name': 'milk_lag_y6m7', 'type': 'bigint'}, {'name': 'milk_lag_y6m8', 'type': 'bigint'}, {'name': 'milk_lag_y6m9', 'type': 'bigint'}, {'name': 'milk_lag_y6m10', 'type': 'bigint'}, {'name': 'milk_lag_y6m11', 'type': 'bigint'}, {'name': 'milk_lag_y6m12', 'type': 'bigint'}, {'name': 'milk_lag_y7m1', 'type': 'bigint'}, {'name': 'milk_lag_y7m2', 'type': 'bigint'}, {'name': 'milk_lag_y7m3', 'type': 'bigint'}, {'name': 'milk_lag_y7m4', 'type': 'bigint'}, {'name': 'milk_lag_y7m5', 'type': 'bigint'}, {'name': 'milk_lag_y7m6', 'type': 'bigint'}, {'name': 'milk_lag_y7m7', 'type': 'bigint'}, {'name': 'milk_lag_y7m8', 'type': 'bigint'}, {'name': 'milk_lag_y7m9', 'type': 'bigint'}, {'name': 'milk_lag_y7m10', 'type': 'bigint'}, {'name': 'milk_lag_y7m11', 'type': 'bigint'}, {'name': 'milk_lag_y7m12', 'type': 'bigint'}], 'userModified': False}\n",
    "\n",
    "ml_dataset_handle = dataiku.Dataset('monthly_45yrs_past_8yrs_prepared')\n",
    "ml_dataset_handle.set_preparation_steps(preparation_steps, preparation_output_schema)\n",
    "%time ml_dataset = ml_dataset_handle.get_dataframe(limit = 100000)\n",
    "\n",
    "print ('Base data has %i rows and %i columns' % (ml_dataset.shape[0], ml_dataset.shape[1]))\n",
    "# Five first records\",\n",
    "ml_dataset.head(5)"
   ]
  },
  {
   "cell_type": "markdown",
   "metadata": {},
   "source": [
    "#### Initial data management"
   ]
  },
  {
   "cell_type": "markdown",
   "metadata": {},
   "source": [
    "The preprocessing aims at making the dataset compatible with modeling.\n",
    "At the end of this step, we will have a matrix of float numbers, with no missing values.\n",
    "We'll use the features and the preprocessing steps defined in Models.\n",
    "\n",
    "Let's only keep selected features"
   ]
  },
  {
   "cell_type": "code",
   "execution_count": 0,
   "metadata": {},
   "outputs": [],
   "source": [
    "ml_dataset = ml_dataset[['milk_lag_y0m0', 'milk_lag_y0m3', 'milk_lag_y0m4', 'milk_lag_y0m1', 'milk_lag_y0m2', 'milk_lag_y0m7', 'milk_lag_y0m8', 'milk_lag_y0m5', 'milk_lag_y0m6', 'milk_lag_y0m9', 'veal_qty']]"
   ]
  },
  {
   "cell_type": "markdown",
   "metadata": {},
   "source": [
    "Let's first coerce categorical columns into unicode, numerical features into floats."
   ]
  },
  {
   "cell_type": "code",
   "execution_count": 0,
   "metadata": {},
   "outputs": [],
   "source": [
    "# astype('unicode') does not work as expected\n",
    "\n",
    "def coerce_to_unicode(x):\n",
    "    if sys.version_info < (3, 0):\n",
    "        if isinstance(x, str):\n",
    "            return unicode(x,'utf-8')\n",
    "        else:\n",
    "            return unicode(x)\n",
    "    else:\n",
    "        return str(x)\n",
    "\n",
    "\n",
    "categorical_features = []\n",
    "numerical_features = ['milk_lag_y0m0', 'milk_lag_y0m3', 'milk_lag_y0m4', 'milk_lag_y0m1', 'milk_lag_y0m2', 'milk_lag_y0m7', 'milk_lag_y0m8', 'milk_lag_y0m5', 'milk_lag_y0m6', 'milk_lag_y0m9']\n",
    "text_features = []\n",
    "from dataiku.doctor.utils import datetime_to_epoch\n",
    "for feature in categorical_features:\n",
    "    ml_dataset[feature] = ml_dataset[feature].apply(coerce_to_unicode)\n",
    "for feature in text_features:\n",
    "    ml_dataset[feature] = ml_dataset[feature].apply(coerce_to_unicode)\n",
    "for feature in numerical_features:\n",
    "    if ml_dataset[feature].dtype == np.dtype('M8[ns]') or (hasattr(ml_dataset[feature].dtype, 'base') and ml_dataset[feature].dtype.base == np.dtype('M8[ns]')):\n",
    "        ml_dataset[feature] = datetime_to_epoch(ml_dataset[feature])\n",
    "    else:\n",
    "        ml_dataset[feature] = ml_dataset[feature].astype('double')"
   ]
  },
  {
   "cell_type": "markdown",
   "metadata": {},
   "source": [
    "We renamed the target variable to a column named target"
   ]
  },
  {
   "cell_type": "code",
   "execution_count": 0,
   "metadata": {},
   "outputs": [],
   "source": [
    "ml_dataset['__target__'] = ml_dataset['veal_qty']\n",
    "del ml_dataset['veal_qty']\n",
    "\n",
    "\n",
    "# Remove rows for which the target is unknown.\n",
    "ml_dataset = ml_dataset[~ml_dataset['__target__'].isnull()]"
   ]
  },
  {
   "cell_type": "markdown",
   "metadata": {},
   "source": [
    "#### Cross-validation strategy"
   ]
  },
  {
   "cell_type": "markdown",
   "metadata": {},
   "source": [
    "The dataset needs to be split into 2 new sets, one that will be used for training the model (train set)\n",
    "and another that will be used to test its generalization capability (test set)"
   ]
  },
  {
   "cell_type": "markdown",
   "metadata": {},
   "source": [
    "Important note: your model used a more advanced cross-validation strategy.\n",
    "For the purpose of this notebook, it has been simplified to a random split of\n",
    "a single dataset"
   ]
  },
  {
   "cell_type": "code",
   "execution_count": 0,
   "metadata": {},
   "outputs": [],
   "source": [
    "train, test = pdu.split_train_valid(ml_dataset, prop=0.8)\n",
    "print ('Train data has %i rows and %i columns' % (train.shape[0], train.shape[1]))\n",
    "print ('Test data has %i rows and %i columns' % (test.shape[0], test.shape[1]))"
   ]
  },
  {
   "cell_type": "markdown",
   "metadata": {},
   "source": [
    "#### Features preprocessing"
   ]
  },
  {
   "cell_type": "markdown",
   "metadata": {},
   "source": [
    "The first thing to do at the features level is to handle the missing values.\n",
    "Let's reuse the settings defined in the model"
   ]
  },
  {
   "cell_type": "code",
   "execution_count": 0,
   "metadata": {},
   "outputs": [],
   "source": [
    "drop_rows_when_missing = []\n",
    "impute_when_missing = [{'feature': 'milk_lag_y0m0', 'impute_with': 'MEAN'}, {'feature': 'milk_lag_y0m3', 'impute_with': 'MEAN'}, {'feature': 'milk_lag_y0m4', 'impute_with': 'MEAN'}, {'feature': 'milk_lag_y0m1', 'impute_with': 'MEAN'}, {'feature': 'milk_lag_y0m2', 'impute_with': 'MEAN'}, {'feature': 'milk_lag_y0m7', 'impute_with': 'MEAN'}, {'feature': 'milk_lag_y0m8', 'impute_with': 'MEAN'}, {'feature': 'milk_lag_y0m5', 'impute_with': 'MEAN'}, {'feature': 'milk_lag_y0m6', 'impute_with': 'MEAN'}, {'feature': 'milk_lag_y0m9', 'impute_with': 'MEAN'}]\n",
    "\n",
    "# Features for which we drop rows with missing values\"\n",
    "for feature in drop_rows_when_missing:\n",
    "    train = train[train[feature].notnull()]\n",
    "    test = test[test[feature].notnull()]\n",
    "    print ('Dropped missing records in %s' % feature)\n",
    "\n",
    "# Features for which we impute missing values\"\n",
    "for feature in impute_when_missing:\n",
    "    if feature['impute_with'] == 'MEAN':\n",
    "        v = train[feature['feature']].mean()\n",
    "    elif feature['impute_with'] == 'MEDIAN':\n",
    "        v = train[feature['feature']].median()\n",
    "    elif feature['impute_with'] == 'CREATE_CATEGORY':\n",
    "        v = 'NULL_CATEGORY'\n",
    "    elif feature['impute_with'] == 'MODE':\n",
    "        v = train[feature['feature']].value_counts().index[0]\n",
    "    elif feature['impute_with'] == 'CONSTANT':\n",
    "        v = feature['value']\n",
    "    train[feature['feature']] = train[feature['feature']].fillna(v)\n",
    "    test[feature['feature']] = test[feature['feature']].fillna(v)\n",
    "    print ('Imputed missing values in feature %s with value %s' % (feature['feature'], coerce_to_unicode(v)))"
   ]
  },
  {
   "cell_type": "markdown",
   "metadata": {},
   "source": [
    "We can now handle the categorical features (still using the settings defined in Models):"
   ]
  },
  {
   "cell_type": "markdown",
   "metadata": {},
   "source": [
    "Let's rescale numerical features"
   ]
  },
  {
   "cell_type": "code",
   "execution_count": 0,
   "metadata": {},
   "outputs": [],
   "source": [
    "rescale_features = {'milk_lag_y0m0': 'AVGSTD', 'milk_lag_y0m3': 'AVGSTD', 'milk_lag_y0m4': 'AVGSTD', 'milk_lag_y0m1': 'AVGSTD', 'milk_lag_y0m2': 'AVGSTD', 'milk_lag_y0m7': 'AVGSTD', 'milk_lag_y0m8': 'AVGSTD', 'milk_lag_y0m5': 'AVGSTD', 'milk_lag_y0m6': 'AVGSTD', 'milk_lag_y0m9': 'AVGSTD'}\n",
    "for (feature_name, rescale_method) in rescale_features.items():\n",
    "    if rescale_method == 'MINMAX':\n",
    "        _min = train[feature_name].min()\n",
    "        _max = train[feature_name].max()\n",
    "        scale = _max - _min\n",
    "        shift = _min\n",
    "    else:\n",
    "        shift = train[feature_name].mean()\n",
    "        scale = train[feature_name].std()\n",
    "    if scale == 0.:\n",
    "        del train[feature_name]\n",
    "        del test[feature_name]\n",
    "        print ('Feature %s was dropped because it has no variance' % feature_name)\n",
    "    else:\n",
    "        print ('Rescaled %s' % feature_name)\n",
    "        train[feature_name] = (train[feature_name] - shift).astype(np.float64) / scale\n",
    "        test[feature_name] = (test[feature_name] - shift).astype(np.float64) / scale"
   ]
  },
  {
   "cell_type": "markdown",
   "metadata": {},
   "source": [
    "#### Modeling"
   ]
  },
  {
   "cell_type": "markdown",
   "metadata": {},
   "source": [
    "Before actually creating our model, we need to split the datasets into their features and labels parts:"
   ]
  },
  {
   "cell_type": "code",
   "execution_count": 0,
   "metadata": {},
   "outputs": [],
   "source": [
    "X_train = train.drop('__target__', axis=1)\n",
    "X_test = test.drop('__target__', axis=1)\n",
    "\n",
    "y_train = np.array(train['__target__'])\n",
    "y_test = np.array(test['__target__'])"
   ]
  },
  {
   "cell_type": "markdown",
   "metadata": {},
   "source": [
    "Now we can finally create our model!"
   ]
  },
  {
   "cell_type": "code",
   "execution_count": 0,
   "metadata": {},
   "outputs": [],
   "source": [
    "from sklearn.svm import SVR\n",
    "clf = SVR(\n",
    "            kernel='linear',\n",
    "            C=1.0,\n",
    "            tol=0.001,\n",
    "            max_iter=-1\n",
    "        )"
   ]
  },
  {
   "cell_type": "markdown",
   "metadata": {},
   "source": [
    "... And train the model"
   ]
  },
  {
   "cell_type": "code",
   "execution_count": 0,
   "metadata": {},
   "outputs": [],
   "source": [
    "%time clf.fit(X_train, y_train)"
   ]
  },
  {
   "cell_type": "markdown",
   "metadata": {},
   "source": [
    "Build up our result dataset"
   ]
  },
  {
   "cell_type": "code",
   "execution_count": 0,
   "metadata": {},
   "outputs": [],
   "source": [
    "%time _predictions = clf.predict(X_test)\n",
    "predictions = pd.Series(data=_predictions, index=X_test.index, name='predicted_value')\n",
    "\n",
    "# Build scored dataset\n",
    "results_test = X_test.join(predictions, how='left')\n",
    "results_test = results_test.join(test['__target__'], how='left')\n",
    "results_test = results_test.rename(columns= {'__target__': 'veal_qty'})"
   ]
  },
  {
   "cell_type": "markdown",
   "metadata": {},
   "source": [
    "#### Results"
   ]
  },
  {
   "cell_type": "markdown",
   "metadata": {},
   "source": [
    "You can measure the model's accuracy:"
   ]
  },
  {
   "cell_type": "code",
   "execution_count": 0,
   "metadata": {},
   "outputs": [],
   "source": [
    "c =  results_test[['predicted_value', 'veal_qty']].corr()\n",
    "print ('Pearson correlation: %s' % c['predicted_value'][1])"
   ]
  },
  {
   "cell_type": "markdown",
   "metadata": {},
   "source": [
    "That's it. It's now up to you to tune your preprocessing, your algo, and your analysis !\n"
   ]
  }
 ],
 "metadata": {
  "kernelspec": {
   "display_name": "Python 3",
   "language": "python",
   "name": "python3"
  },
  "language_info": {
   "codemirror_mode": {
    "name": "ipython",
    "version": 3
   },
   "file_extension": ".py",
   "mimetype": "text/x-python",
   "name": "python",
   "nbconvert_exporter": "python",
   "pygments_lexer": "ipython3",
   "version": "3.7.13"
  },
  "modifiedBy": "admin",
  "name": "Predicting veal_qty in monthly_45yrs_past_8yrs_prepared"
 },
 "nbformat": 4,
 "nbformat_minor": 1
}
